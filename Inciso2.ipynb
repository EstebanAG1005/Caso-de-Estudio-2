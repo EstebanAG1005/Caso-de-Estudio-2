{
 "cells": [
  {
   "cell_type": "markdown",
   "metadata": {},
   "source": [
    "# **Predicción de Tiempo de Maratón Basado en Actividades de Entrenamiento**\n",
    " \n",
    "## **Descripción**\n",
    "Este notebook construye un modelo de regresión para predecir el tiempo de maratón (`MarathonTime`) usando diversos parámetros de entrenamiento."
   ]
  },
  {
   "cell_type": "code",
   "execution_count": 34,
   "metadata": {},
   "outputs": [
    {
     "name": "stdout",
     "output_type": "stream",
     "text": [
      "Dataset cargado exitosamente.\n"
     ]
    }
   ],
   "source": [
    "import pandas as pd\n",
    "from sklearn.model_selection import train_test_split\n",
    "from sklearn.linear_model import LinearRegression\n",
    "from sklearn.metrics import mean_squared_error, r2_score\n",
    "import re\n",
    "\n",
    "# Cargar el dataset\n",
    "try:\n",
    "    data = pd.read_csv('MarathonData.csv')  # Reemplaza 'ruta_al_archivo.csv' con la ruta correcta\n",
    "    print(\"Dataset cargado exitosamente.\")\n",
    "except FileNotFoundError as e:\n",
    "    print(\"Error: Asegúrate de que el archivo CSV esté en el directorio correcto.\")\n",
    "    raise e\n"
   ]
  },
  {
   "cell_type": "code",
   "execution_count": 35,
   "metadata": {},
   "outputs": [
    {
     "name": "stdout",
     "output_type": "stream",
     "text": [
      "\n",
      "**Primeras 5 filas del Dataset de Actividades:**\n"
     ]
    },
    {
     "data": {
      "text/html": [
       "<div>\n",
       "<style scoped>\n",
       "    .dataframe tbody tr th:only-of-type {\n",
       "        vertical-align: middle;\n",
       "    }\n",
       "\n",
       "    .dataframe tbody tr th {\n",
       "        vertical-align: top;\n",
       "    }\n",
       "\n",
       "    .dataframe thead th {\n",
       "        text-align: right;\n",
       "    }\n",
       "</style>\n",
       "<table border=\"1\" class=\"dataframe\">\n",
       "  <thead>\n",
       "    <tr style=\"text-align: right;\">\n",
       "      <th></th>\n",
       "      <th>id</th>\n",
       "      <th>Marathon</th>\n",
       "      <th>Name</th>\n",
       "      <th>Category</th>\n",
       "      <th>km4week</th>\n",
       "      <th>sp4week</th>\n",
       "      <th>CrossTraining</th>\n",
       "      <th>Wall21</th>\n",
       "      <th>MarathonTime</th>\n",
       "      <th>CATEGORY</th>\n",
       "    </tr>\n",
       "  </thead>\n",
       "  <tbody>\n",
       "    <tr>\n",
       "      <th>0</th>\n",
       "      <td>1</td>\n",
       "      <td>Prague17</td>\n",
       "      <td>Blair MORGAN</td>\n",
       "      <td>MAM</td>\n",
       "      <td>132.8</td>\n",
       "      <td>14.434783</td>\n",
       "      <td>NaN</td>\n",
       "      <td>1.16</td>\n",
       "      <td>2.37</td>\n",
       "      <td>A</td>\n",
       "    </tr>\n",
       "    <tr>\n",
       "      <th>1</th>\n",
       "      <td>2</td>\n",
       "      <td>Prague17</td>\n",
       "      <td>Robert Heczko</td>\n",
       "      <td>MAM</td>\n",
       "      <td>68.6</td>\n",
       "      <td>13.674419</td>\n",
       "      <td>NaN</td>\n",
       "      <td>1.23</td>\n",
       "      <td>2.59</td>\n",
       "      <td>A</td>\n",
       "    </tr>\n",
       "    <tr>\n",
       "      <th>2</th>\n",
       "      <td>3</td>\n",
       "      <td>Prague17</td>\n",
       "      <td>Michon Jerome</td>\n",
       "      <td>MAM</td>\n",
       "      <td>82.7</td>\n",
       "      <td>13.520436</td>\n",
       "      <td>NaN</td>\n",
       "      <td>1.30</td>\n",
       "      <td>2.66</td>\n",
       "      <td>A</td>\n",
       "    </tr>\n",
       "    <tr>\n",
       "      <th>3</th>\n",
       "      <td>4</td>\n",
       "      <td>Prague17</td>\n",
       "      <td>Daniel Or lek</td>\n",
       "      <td>M45</td>\n",
       "      <td>137.5</td>\n",
       "      <td>12.258544</td>\n",
       "      <td>NaN</td>\n",
       "      <td>1.32</td>\n",
       "      <td>2.68</td>\n",
       "      <td>A</td>\n",
       "    </tr>\n",
       "    <tr>\n",
       "      <th>4</th>\n",
       "      <td>5</td>\n",
       "      <td>Prague17</td>\n",
       "      <td>Luk ? Mr zek</td>\n",
       "      <td>MAM</td>\n",
       "      <td>84.6</td>\n",
       "      <td>13.945055</td>\n",
       "      <td>NaN</td>\n",
       "      <td>1.36</td>\n",
       "      <td>2.74</td>\n",
       "      <td>A</td>\n",
       "    </tr>\n",
       "    <tr>\n",
       "      <th>...</th>\n",
       "      <td>...</td>\n",
       "      <td>...</td>\n",
       "      <td>...</td>\n",
       "      <td>...</td>\n",
       "      <td>...</td>\n",
       "      <td>...</td>\n",
       "      <td>...</td>\n",
       "      <td>...</td>\n",
       "      <td>...</td>\n",
       "      <td>...</td>\n",
       "    </tr>\n",
       "    <tr>\n",
       "      <th>82</th>\n",
       "      <td>83</td>\n",
       "      <td>Prague17</td>\n",
       "      <td>Stefano Vegliani</td>\n",
       "      <td>M55</td>\n",
       "      <td>50.0</td>\n",
       "      <td>10.830325</td>\n",
       "      <td>NaN</td>\n",
       "      <td>2.02</td>\n",
       "      <td>3.93</td>\n",
       "      <td>D</td>\n",
       "    </tr>\n",
       "    <tr>\n",
       "      <th>83</th>\n",
       "      <td>84</td>\n",
       "      <td>Prague17</td>\n",
       "      <td>Andrej Madliak</td>\n",
       "      <td>M40</td>\n",
       "      <td>33.6</td>\n",
       "      <td>10.130653</td>\n",
       "      <td>ciclista 3h</td>\n",
       "      <td>1.94</td>\n",
       "      <td>3.93</td>\n",
       "      <td>D</td>\n",
       "    </tr>\n",
       "    <tr>\n",
       "      <th>84</th>\n",
       "      <td>85</td>\n",
       "      <td>Prague17</td>\n",
       "      <td>Yoi Ohsako</td>\n",
       "      <td>M40</td>\n",
       "      <td>55.4</td>\n",
       "      <td>11.043189</td>\n",
       "      <td>NaN</td>\n",
       "      <td>1.94</td>\n",
       "      <td>3.94</td>\n",
       "      <td>D</td>\n",
       "    </tr>\n",
       "    <tr>\n",
       "      <th>85</th>\n",
       "      <td>86</td>\n",
       "      <td>Prague17</td>\n",
       "      <td>Simon Dunn</td>\n",
       "      <td>M45</td>\n",
       "      <td>33.2</td>\n",
       "      <td>11.066667</td>\n",
       "      <td>NaN</td>\n",
       "      <td>2.05</td>\n",
       "      <td>3.95</td>\n",
       "      <td>D</td>\n",
       "    </tr>\n",
       "    <tr>\n",
       "      <th>86</th>\n",
       "      <td>87</td>\n",
       "      <td>Prague17</td>\n",
       "      <td>Pavel ?imek</td>\n",
       "      <td>M40</td>\n",
       "      <td>17.9</td>\n",
       "      <td>10.848485</td>\n",
       "      <td>ciclista 5h</td>\n",
       "      <td>2.05</td>\n",
       "      <td>3.98</td>\n",
       "      <td>D</td>\n",
       "    </tr>\n",
       "  </tbody>\n",
       "</table>\n",
       "<p>87 rows × 10 columns</p>\n",
       "</div>"
      ],
      "text/plain": [
       "    id  Marathon              Name Category  km4week    sp4week CrossTraining  \\\n",
       "0    1  Prague17      Blair MORGAN      MAM    132.8  14.434783           NaN   \n",
       "1    2  Prague17     Robert Heczko      MAM     68.6  13.674419           NaN   \n",
       "2    3  Prague17     Michon Jerome      MAM     82.7  13.520436           NaN   \n",
       "3    4  Prague17     Daniel Or lek      M45    137.5  12.258544           NaN   \n",
       "4    5  Prague17      Luk ? Mr zek      MAM     84.6  13.945055           NaN   \n",
       "..  ..       ...               ...      ...      ...        ...           ...   \n",
       "82  83  Prague17  Stefano Vegliani      M55     50.0  10.830325           NaN   \n",
       "83  84  Prague17    Andrej Madliak      M40     33.6  10.130653   ciclista 3h   \n",
       "84  85  Prague17        Yoi Ohsako      M40     55.4  11.043189           NaN   \n",
       "85  86  Prague17        Simon Dunn      M45     33.2  11.066667           NaN   \n",
       "86  87  Prague17       Pavel ?imek      M40     17.9  10.848485   ciclista 5h   \n",
       "\n",
       "   Wall21  MarathonTime CATEGORY  \n",
       "0    1.16          2.37        A  \n",
       "1    1.23          2.59        A  \n",
       "2    1.30          2.66        A  \n",
       "3    1.32          2.68        A  \n",
       "4    1.36          2.74        A  \n",
       "..    ...           ...      ...  \n",
       "82   2.02          3.93        D  \n",
       "83   1.94          3.93        D  \n",
       "84   1.94          3.94        D  \n",
       "85   2.05          3.95        D  \n",
       "86   2.05          3.98        D  \n",
       "\n",
       "[87 rows x 10 columns]"
      ]
     },
     "metadata": {},
     "output_type": "display_data"
    }
   ],
   "source": [
    "# Exploración del Dataset\n",
    "print(\"\\n**Primeras 5 filas del Dataset de Actividades:**\")\n",
    "display(data)"
   ]
  },
  {
   "cell_type": "markdown",
   "metadata": {},
   "source": [
    "## **Preprocesamiento de los Datos**"
   ]
  },
  {
   "cell_type": "code",
   "execution_count": 36,
   "metadata": {},
   "outputs": [],
   "source": [
    "# Convertir 'MarathonTime' a numérico, forzando errores a NaN, y eliminarlos después\n",
    "data['MarathonTime'] = pd.to_numeric(data['MarathonTime'], errors='coerce')\n",
    "data['km4week'] = pd.to_numeric(data['km4week'], errors='coerce')\n",
    "data['sp4week'] = pd.to_numeric(data['sp4week'], errors='coerce')\n",
    "data['Wall21'] = pd.to_numeric(data['Wall21'], errors='coerce')\n",
    "data = data.dropna(subset=['MarathonTime', 'km4week', 'sp4week', 'Wall21'])\n",
    "\n",
    "# Procesamiento de 'CrossTraining' (extraer horas)\n",
    "def extract_hours(cross_training):\n",
    "    if pd.isnull(cross_training):\n",
    "        return 0.0  # Asignar 0 si el valor es NaN\n",
    "    match = re.search(r'(\\d+\\.?\\d*)\\s*h', cross_training.lower())\n",
    "    if match:\n",
    "        return float(match.group(1))\n",
    "    return 0.0  # Asignar 0 si no se encuentra un patrón de horas\n",
    "\n",
    "data['CrossTraining_Hours'] = data['CrossTraining'].apply(extract_hours)\n",
    "\n",
    "# Convertir variables categóricas en variables dummy\n",
    "data = pd.get_dummies(data, columns=['Category'], drop_first=True)\n",
    "\n",
    "# Eliminar columnas que no se usarán en el modelo\n",
    "data = data.drop(columns=['id', 'Marathon', 'Name', 'CrossTraining', 'CATEGORY'])"
   ]
  },
  {
   "cell_type": "markdown",
   "metadata": {},
   "source": [
    "## **División de Datos para Entrenamiento y Pruebas**"
   ]
  },
  {
   "cell_type": "code",
   "execution_count": 37,
   "metadata": {},
   "outputs": [],
   "source": [
    "# Definir variables independientes (X) y variable dependiente (y)\n",
    "X = data.drop(columns=['MarathonTime'])\n",
    "y = data['MarathonTime']\n",
    "\n",
    "# División del conjunto de datos en entrenamiento y prueba\n",
    "X_train, X_test, y_train, y_test = train_test_split(X, y, test_size=0.2, random_state=42)"
   ]
  },
  {
   "cell_type": "markdown",
   "metadata": {},
   "source": [
    "## **Entrenamiento del Modelo de Regresión**"
   ]
  },
  {
   "cell_type": "code",
   "execution_count": 38,
   "metadata": {},
   "outputs": [
    {
     "data": {
      "text/html": [
       "<style>#sk-container-id-2 {color: black;background-color: white;}#sk-container-id-2 pre{padding: 0;}#sk-container-id-2 div.sk-toggleable {background-color: white;}#sk-container-id-2 label.sk-toggleable__label {cursor: pointer;display: block;width: 100%;margin-bottom: 0;padding: 0.3em;box-sizing: border-box;text-align: center;}#sk-container-id-2 label.sk-toggleable__label-arrow:before {content: \"▸\";float: left;margin-right: 0.25em;color: #696969;}#sk-container-id-2 label.sk-toggleable__label-arrow:hover:before {color: black;}#sk-container-id-2 div.sk-estimator:hover label.sk-toggleable__label-arrow:before {color: black;}#sk-container-id-2 div.sk-toggleable__content {max-height: 0;max-width: 0;overflow: hidden;text-align: left;background-color: #f0f8ff;}#sk-container-id-2 div.sk-toggleable__content pre {margin: 0.2em;color: black;border-radius: 0.25em;background-color: #f0f8ff;}#sk-container-id-2 input.sk-toggleable__control:checked~div.sk-toggleable__content {max-height: 200px;max-width: 100%;overflow: auto;}#sk-container-id-2 input.sk-toggleable__control:checked~label.sk-toggleable__label-arrow:before {content: \"▾\";}#sk-container-id-2 div.sk-estimator input.sk-toggleable__control:checked~label.sk-toggleable__label {background-color: #d4ebff;}#sk-container-id-2 div.sk-label input.sk-toggleable__control:checked~label.sk-toggleable__label {background-color: #d4ebff;}#sk-container-id-2 input.sk-hidden--visually {border: 0;clip: rect(1px 1px 1px 1px);clip: rect(1px, 1px, 1px, 1px);height: 1px;margin: -1px;overflow: hidden;padding: 0;position: absolute;width: 1px;}#sk-container-id-2 div.sk-estimator {font-family: monospace;background-color: #f0f8ff;border: 1px dotted black;border-radius: 0.25em;box-sizing: border-box;margin-bottom: 0.5em;}#sk-container-id-2 div.sk-estimator:hover {background-color: #d4ebff;}#sk-container-id-2 div.sk-parallel-item::after {content: \"\";width: 100%;border-bottom: 1px solid gray;flex-grow: 1;}#sk-container-id-2 div.sk-label:hover label.sk-toggleable__label {background-color: #d4ebff;}#sk-container-id-2 div.sk-serial::before {content: \"\";position: absolute;border-left: 1px solid gray;box-sizing: border-box;top: 0;bottom: 0;left: 50%;z-index: 0;}#sk-container-id-2 div.sk-serial {display: flex;flex-direction: column;align-items: center;background-color: white;padding-right: 0.2em;padding-left: 0.2em;position: relative;}#sk-container-id-2 div.sk-item {position: relative;z-index: 1;}#sk-container-id-2 div.sk-parallel {display: flex;align-items: stretch;justify-content: center;background-color: white;position: relative;}#sk-container-id-2 div.sk-item::before, #sk-container-id-2 div.sk-parallel-item::before {content: \"\";position: absolute;border-left: 1px solid gray;box-sizing: border-box;top: 0;bottom: 0;left: 50%;z-index: -1;}#sk-container-id-2 div.sk-parallel-item {display: flex;flex-direction: column;z-index: 1;position: relative;background-color: white;}#sk-container-id-2 div.sk-parallel-item:first-child::after {align-self: flex-end;width: 50%;}#sk-container-id-2 div.sk-parallel-item:last-child::after {align-self: flex-start;width: 50%;}#sk-container-id-2 div.sk-parallel-item:only-child::after {width: 0;}#sk-container-id-2 div.sk-dashed-wrapped {border: 1px dashed gray;margin: 0 0.4em 0.5em 0.4em;box-sizing: border-box;padding-bottom: 0.4em;background-color: white;}#sk-container-id-2 div.sk-label label {font-family: monospace;font-weight: bold;display: inline-block;line-height: 1.2em;}#sk-container-id-2 div.sk-label-container {text-align: center;}#sk-container-id-2 div.sk-container {/* jupyter's `normalize.less` sets `[hidden] { display: none; }` but bootstrap.min.css set `[hidden] { display: none !important; }` so we also need the `!important` here to be able to override the default hidden behavior on the sphinx rendered scikit-learn.org. See: https://github.com/scikit-learn/scikit-learn/issues/21755 */display: inline-block !important;position: relative;}#sk-container-id-2 div.sk-text-repr-fallback {display: none;}</style><div id=\"sk-container-id-2\" class=\"sk-top-container\"><div class=\"sk-text-repr-fallback\"><pre>LinearRegression()</pre><b>In a Jupyter environment, please rerun this cell to show the HTML representation or trust the notebook. <br />On GitHub, the HTML representation is unable to render, please try loading this page with nbviewer.org.</b></div><div class=\"sk-container\" hidden><div class=\"sk-item\"><div class=\"sk-estimator sk-toggleable\"><input class=\"sk-toggleable__control sk-hidden--visually\" id=\"sk-estimator-id-2\" type=\"checkbox\" checked><label for=\"sk-estimator-id-2\" class=\"sk-toggleable__label sk-toggleable__label-arrow\">LinearRegression</label><div class=\"sk-toggleable__content\"><pre>LinearRegression()</pre></div></div></div></div></div>"
      ],
      "text/plain": [
       "LinearRegression()"
      ]
     },
     "execution_count": 38,
     "metadata": {},
     "output_type": "execute_result"
    }
   ],
   "source": [
    "# Inicializar el modelo de regresión lineal\n",
    "model = LinearRegression()\n",
    "\n",
    "# Entrenar el modelo\n",
    "model.fit(X_train, y_train)"
   ]
  },
  {
   "cell_type": "markdown",
   "metadata": {},
   "source": [
    "## **Evaluación del Modelo**"
   ]
  },
  {
   "cell_type": "code",
   "execution_count": 39,
   "metadata": {},
   "outputs": [
    {
     "name": "stdout",
     "output_type": "stream",
     "text": [
      "\n",
      "**MSE (Error Cuadrático Medio):** 0.01\n",
      "**R^2 (Coeficiente de Determinación):** 0.94\n"
     ]
    }
   ],
   "source": [
    "# Predicciones en el conjunto de prueba\n",
    "y_pred = model.predict(X_test)\n",
    "\n",
    "# Calcular métricas de rendimiento\n",
    "mse = mean_squared_error(y_test, y_pred)\n",
    "r2 = r2_score(y_test, y_pred)\n",
    "\n",
    "print(f\"\\n**MSE (Error Cuadrático Medio):** {mse:.2f}\")\n",
    "print(f\"**R^2 (Coeficiente de Determinación):** {r2:.2f}\")"
   ]
  },
  {
   "cell_type": "markdown",
   "metadata": {},
   "source": [
    "## **Predicción de Tiempo de Maratón para Nuevas Actividades**"
   ]
  },
  {
   "cell_type": "code",
   "execution_count": 40,
   "metadata": {},
   "outputs": [],
   "source": [
    "# Definir una función para predecir el tiempo de maratón en base a una nueva actividad\n",
    "def predecir_tiempo_maraton(nueva_actividad):\n",
    "    \"\"\"\n",
    "    Predice el tiempo de maratón basado en una nueva actividad.\n",
    "    \n",
    "    Parámetros:\n",
    "    - nueva_actividad: Diccionario con detalles de la actividad (distancia semanal, velocidad semanal, horas de cross-training, etc.)\n",
    "    \n",
    "    Retorna:\n",
    "    - tiempo_predicho: Predicción de tiempo de maratón.\n",
    "    \"\"\"\n",
    "    # Convertir el diccionario en un DataFrame\n",
    "    nueva_actividad_df = pd.DataFrame([nueva_actividad])\n",
    "    \n",
    "    # Convertir 'Category' a dummies\n",
    "    nueva_actividad_df = pd.get_dummies(nueva_actividad_df, columns=['Category'], drop_first=True)\n",
    "    \n",
    "    # Alinear columnas con las de X (agregar columnas faltantes con valor 0)\n",
    "    nueva_actividad_df = nueva_actividad_df.reindex(columns=X.columns, fill_value=0)\n",
    "    \n",
    "    # Realizar la predicción\n",
    "    tiempo_predicho = model.predict(nueva_actividad_df)[0]\n",
    "    \n",
    "    return tiempo_predicho"
   ]
  },
  {
   "cell_type": "markdown",
   "metadata": {},
   "source": [
    "## **Ejemplo de Predicción**"
   ]
  },
  {
   "cell_type": "code",
   "execution_count": 42,
   "metadata": {},
   "outputs": [
    {
     "name": "stdout",
     "output_type": "stream",
     "text": [
      "\n",
      "**Tiempo Predicho para Maratón Basado en Nueva Actividad:** 3.04 horas\n"
     ]
    }
   ],
   "source": [
    "# Datos de una nueva actividad para predicción\n",
    "nueva_actividad = {\n",
    "    'km4week': 80.0,\n",
    "    'sp4week': 12.5,\n",
    "    'Wall21': 1.5,\n",
    "    'CrossTraining_Hours': 2,  # Ajustar según la actividad\n",
    "    'Category': 1,  # Cambiar según la categoría de la nueva actividad\n",
    "}\n",
    "\n",
    "# Realizar la predicción\n",
    "tiempo_predicho = predecir_tiempo_maraton(nueva_actividad)\n",
    "print(f\"\\n**Tiempo Predicho para Maratón Basado en Nueva Actividad:** {tiempo_predicho:.2f} horas\")"
   ]
  },
  {
   "cell_type": "markdown",
   "metadata": {},
   "source": [
    "## **Conclusión**\n",
    "\n",
    "Hemos implementado un modelo de regresión lineal que predice el tiempo total de maratón usando información sobre entrenamiento semanal y otros parámetros.\n",
    "\n",
    "---"
   ]
  }
 ],
 "metadata": {
  "kernelspec": {
   "display_name": "Python 3",
   "language": "python",
   "name": "python3"
  },
  "language_info": {
   "codemirror_mode": {
    "name": "ipython",
    "version": 3
   },
   "file_extension": ".py",
   "mimetype": "text/x-python",
   "name": "python",
   "nbconvert_exporter": "python",
   "pygments_lexer": "ipython3",
   "version": "3.10.11"
  }
 },
 "nbformat": 4,
 "nbformat_minor": 2
}
